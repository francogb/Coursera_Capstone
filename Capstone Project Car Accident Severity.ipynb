{
 "cells": [
  {
   "cell_type": "markdown",
   "metadata": {},
   "source": [
    "<img src=\"https://images.youracclaim.com/images/00898a99-7e63-4203-b601-f063ee5f5018/linkedin_thumb_Advanced_Data_Science_Capstone.png\" align=\"center\">\n",
    "\n",
    "<h1><center>Capstone Project : Accident Severity</center></h1>"
   ]
  },
  {
   "cell_type": "markdown",
   "metadata": {},
   "source": [
    "<h1>Table of contents</h1>\n",
    "\n",
    "<div class=\"alert alert-block alert-info\" style=\"margin-top: 20px\">\n",
    "    <ol>\n",
    "        <li><a href=\"#about_dataset\">About the dataset</a></li>\n",
    "        <li><a href=\"#data_wrangling\">Data Wrangling</a></li>\n",
    "        <li><a href=\"#exploratory_analysis\">Exploratory Data Analysis</a></li>\n",
    "        <li><a href=\"#data_preprocessing\">Data Pre-processing</a></li>\n",
    "        <li><a href=\"#train_test_split\">Train-Test-Split</a></li>\n",
    "        <li><a href=\"#Modeling\">Modeling</a>\n",
    "            <ul>\n",
    "                <li><a href=\"#KNN\">K-Nearest Neighbours(KNN)</a></li>\n",
    "                <li><a href=\"#decision_tree\">Decision Tree</a></li>\n",
    "                <li><a href=\"#logistic_regression\">Logistic Regression</a></li>\n",
    "            </ul>\n",
    "        </li>\n",
    "        <li><a href=\"#results\">Results and Evaluations</a></li>\n",
    "    </ol>\n",
    "</div>\n",
    "<br>\n",
    "<hr>\n",
    "\n",
    "\n",
    "<div id=\"about_dataset\">\n",
    "    <h2>About the dataset</h2>\n",
    "</div>\n",
    "\n",
    "The data for this project is taken from an open source website - (https://data-seattlecitygis.opendata.arcgis.com/datasets/5b5c745e0f1f48e7a53acec63a0022ab_0/data)\n",
    "\n",
    "The data consists of 39 independent variables and 221525 rows. The dependent variable, “SEVERITYCODE”, contains codes that correspond to different levels of severity caused by an accident.\n",
    " \n",
    "Severity codes are as follows:\n",
    "*\t0 : Unknown\n",
    "*\t1 : Property Damage Only Collision\n",
    "*\t2 : Injury Collision\n",
    "*\t2b : Serious Injury Collision\n",
    "*\t3 : Fatality Collision\n",
    "\n",
    " \n",
    "Furthermore, because of the existence of null values in some records, the data needs to be preprocessed before any further processing.\n"
   ]
  },
  {
   "cell_type": "code",
   "execution_count": 1,
   "metadata": {},
   "outputs": [
    {
     "data": {
      "text/html": [
       "<div>\n",
       "<style scoped>\n",
       "    .dataframe tbody tr th:only-of-type {\n",
       "        vertical-align: middle;\n",
       "    }\n",
       "\n",
       "    .dataframe tbody tr th {\n",
       "        vertical-align: top;\n",
       "    }\n",
       "\n",
       "    .dataframe thead th {\n",
       "        text-align: right;\n",
       "    }\n",
       "</style>\n",
       "<table border=\"1\" class=\"dataframe\">\n",
       "  <thead>\n",
       "    <tr style=\"text-align: right;\">\n",
       "      <th></th>\n",
       "      <th>X</th>\n",
       "      <th>Y</th>\n",
       "      <th>OBJECTID</th>\n",
       "      <th>INCKEY</th>\n",
       "      <th>COLDETKEY</th>\n",
       "      <th>REPORTNO</th>\n",
       "      <th>STATUS</th>\n",
       "      <th>ADDRTYPE</th>\n",
       "      <th>INTKEY</th>\n",
       "      <th>LOCATION</th>\n",
       "      <th>...</th>\n",
       "      <th>ROADCOND</th>\n",
       "      <th>LIGHTCOND</th>\n",
       "      <th>PEDROWNOTGRNT</th>\n",
       "      <th>SDOTCOLNUM</th>\n",
       "      <th>SPEEDING</th>\n",
       "      <th>ST_COLCODE</th>\n",
       "      <th>ST_COLDESC</th>\n",
       "      <th>SEGLANEKEY</th>\n",
       "      <th>CROSSWALKKEY</th>\n",
       "      <th>HITPARKEDCAR</th>\n",
       "    </tr>\n",
       "  </thead>\n",
       "  <tbody>\n",
       "    <tr>\n",
       "      <th>0</th>\n",
       "      <td>-122.356511</td>\n",
       "      <td>47.517361</td>\n",
       "      <td>1</td>\n",
       "      <td>327920</td>\n",
       "      <td>329420</td>\n",
       "      <td>3856094</td>\n",
       "      <td>Matched</td>\n",
       "      <td>Intersection</td>\n",
       "      <td>34911.0</td>\n",
       "      <td>17TH AVE SW AND SW ROXBURY ST</td>\n",
       "      <td>...</td>\n",
       "      <td>Dry</td>\n",
       "      <td>Daylight</td>\n",
       "      <td>NaN</td>\n",
       "      <td>NaN</td>\n",
       "      <td>NaN</td>\n",
       "      <td>10</td>\n",
       "      <td>Entering at angle</td>\n",
       "      <td>0</td>\n",
       "      <td>0</td>\n",
       "      <td>N</td>\n",
       "    </tr>\n",
       "    <tr>\n",
       "      <th>1</th>\n",
       "      <td>-122.361405</td>\n",
       "      <td>47.702064</td>\n",
       "      <td>2</td>\n",
       "      <td>46200</td>\n",
       "      <td>46200</td>\n",
       "      <td>1791736</td>\n",
       "      <td>Matched</td>\n",
       "      <td>Block</td>\n",
       "      <td>NaN</td>\n",
       "      <td>HOLMAN RD NW BETWEEN 4TH AVE NW AND 3RD AVE NW</td>\n",
       "      <td>...</td>\n",
       "      <td>Wet</td>\n",
       "      <td>Dusk</td>\n",
       "      <td>NaN</td>\n",
       "      <td>5101020.0</td>\n",
       "      <td>NaN</td>\n",
       "      <td>13</td>\n",
       "      <td>From same direction - both going straight - bo...</td>\n",
       "      <td>0</td>\n",
       "      <td>0</td>\n",
       "      <td>N</td>\n",
       "    </tr>\n",
       "    <tr>\n",
       "      <th>2</th>\n",
       "      <td>-122.317414</td>\n",
       "      <td>47.664028</td>\n",
       "      <td>3</td>\n",
       "      <td>1212</td>\n",
       "      <td>1212</td>\n",
       "      <td>3507861</td>\n",
       "      <td>Matched</td>\n",
       "      <td>Block</td>\n",
       "      <td>NaN</td>\n",
       "      <td>ROOSEVELT WAY NE BETWEEN NE 47TH ST AND NE 50T...</td>\n",
       "      <td>...</td>\n",
       "      <td>Dry</td>\n",
       "      <td>Dark - Street Lights On</td>\n",
       "      <td>NaN</td>\n",
       "      <td>NaN</td>\n",
       "      <td>NaN</td>\n",
       "      <td>30</td>\n",
       "      <td>From opposite direction - all others</td>\n",
       "      <td>0</td>\n",
       "      <td>0</td>\n",
       "      <td>N</td>\n",
       "    </tr>\n",
       "    <tr>\n",
       "      <th>3</th>\n",
       "      <td>-122.318234</td>\n",
       "      <td>47.619927</td>\n",
       "      <td>4</td>\n",
       "      <td>327909</td>\n",
       "      <td>329409</td>\n",
       "      <td>EA03026</td>\n",
       "      <td>Matched</td>\n",
       "      <td>Intersection</td>\n",
       "      <td>29054.0</td>\n",
       "      <td>11TH AVE E AND E JOHN ST</td>\n",
       "      <td>...</td>\n",
       "      <td>Wet</td>\n",
       "      <td>Dark - Street Lights On</td>\n",
       "      <td>NaN</td>\n",
       "      <td>NaN</td>\n",
       "      <td>NaN</td>\n",
       "      <td>0</td>\n",
       "      <td>Vehicle going straight hits pedestrian</td>\n",
       "      <td>0</td>\n",
       "      <td>0</td>\n",
       "      <td>N</td>\n",
       "    </tr>\n",
       "    <tr>\n",
       "      <th>4</th>\n",
       "      <td>-122.351724</td>\n",
       "      <td>47.560306</td>\n",
       "      <td>5</td>\n",
       "      <td>104900</td>\n",
       "      <td>104900</td>\n",
       "      <td>2671936</td>\n",
       "      <td>Matched</td>\n",
       "      <td>Block</td>\n",
       "      <td>NaN</td>\n",
       "      <td>WEST MARGINAL WAY SW BETWEEN SW ALASKA ST AND ...</td>\n",
       "      <td>...</td>\n",
       "      <td>Ice</td>\n",
       "      <td>Dark - Street Lights On</td>\n",
       "      <td>NaN</td>\n",
       "      <td>9359012.0</td>\n",
       "      <td>Y</td>\n",
       "      <td>50</td>\n",
       "      <td>Fixed object</td>\n",
       "      <td>0</td>\n",
       "      <td>0</td>\n",
       "      <td>N</td>\n",
       "    </tr>\n",
       "  </tbody>\n",
       "</table>\n",
       "<p>5 rows × 40 columns</p>\n",
       "</div>"
      ],
      "text/plain": [
       "            X          Y  OBJECTID  INCKEY  COLDETKEY REPORTNO   STATUS  \\\n",
       "0 -122.356511  47.517361         1  327920     329420  3856094  Matched   \n",
       "1 -122.361405  47.702064         2   46200      46200  1791736  Matched   \n",
       "2 -122.317414  47.664028         3    1212       1212  3507861  Matched   \n",
       "3 -122.318234  47.619927         4  327909     329409  EA03026  Matched   \n",
       "4 -122.351724  47.560306         5  104900     104900  2671936  Matched   \n",
       "\n",
       "       ADDRTYPE   INTKEY                                           LOCATION  \\\n",
       "0  Intersection  34911.0                      17TH AVE SW AND SW ROXBURY ST   \n",
       "1         Block      NaN     HOLMAN RD NW BETWEEN 4TH AVE NW AND 3RD AVE NW   \n",
       "2         Block      NaN  ROOSEVELT WAY NE BETWEEN NE 47TH ST AND NE 50T...   \n",
       "3  Intersection  29054.0                           11TH AVE E AND E JOHN ST   \n",
       "4         Block      NaN  WEST MARGINAL WAY SW BETWEEN SW ALASKA ST AND ...   \n",
       "\n",
       "   ... ROADCOND                LIGHTCOND PEDROWNOTGRNT SDOTCOLNUM SPEEDING  \\\n",
       "0  ...      Dry                 Daylight           NaN        NaN      NaN   \n",
       "1  ...      Wet                     Dusk           NaN  5101020.0      NaN   \n",
       "2  ...      Dry  Dark - Street Lights On           NaN        NaN      NaN   \n",
       "3  ...      Wet  Dark - Street Lights On           NaN        NaN      NaN   \n",
       "4  ...      Ice  Dark - Street Lights On           NaN  9359012.0        Y   \n",
       "\n",
       "   ST_COLCODE                                         ST_COLDESC  SEGLANEKEY  \\\n",
       "0          10                                  Entering at angle           0   \n",
       "1          13  From same direction - both going straight - bo...           0   \n",
       "2          30               From opposite direction - all others           0   \n",
       "3           0             Vehicle going straight hits pedestrian           0   \n",
       "4          50                                       Fixed object           0   \n",
       "\n",
       "   CROSSWALKKEY  HITPARKEDCAR  \n",
       "0             0             N  \n",
       "1             0             N  \n",
       "2             0             N  \n",
       "3             0             N  \n",
       "4             0             N  \n",
       "\n",
       "[5 rows x 40 columns]"
      ]
     },
     "execution_count": 1,
     "metadata": {},
     "output_type": "execute_result"
    }
   ],
   "source": [
    "import pandas as pd\n",
    "import matplotlib.pyplot as plt\n",
    "\n",
    "path='https://opendata.arcgis.com/datasets/5b5c745e0f1f48e7a53acec63a0022ab_0.csv'\n",
    "df = pd.read_csv(path)\n",
    "df.head()"
   ]
  },
  {
   "cell_type": "markdown",
   "metadata": {},
   "source": [
    "<div id=\"data_wrangling\">\n",
    "    <h2>Data Wrangling</h2>\n",
    "</div>\n"
   ]
  },
  {
   "cell_type": "code",
   "execution_count": 2,
   "metadata": {
    "scrolled": true
   },
   "outputs": [
    {
     "name": "stdout",
     "output_type": "stream",
     "text": [
      "<class 'pandas.core.frame.DataFrame'>\n",
      "RangeIndex: 221738 entries, 0 to 221737\n",
      "Data columns (total 40 columns):\n",
      " #   Column           Non-Null Count   Dtype  \n",
      "---  ------           --------------   -----  \n",
      " 0   X                214260 non-null  float64\n",
      " 1   Y                214260 non-null  float64\n",
      " 2   OBJECTID         221738 non-null  int64  \n",
      " 3   INCKEY           221738 non-null  int64  \n",
      " 4   COLDETKEY        221738 non-null  int64  \n",
      " 5   REPORTNO         221738 non-null  object \n",
      " 6   STATUS           221738 non-null  object \n",
      " 7   ADDRTYPE         218024 non-null  object \n",
      " 8   INTKEY           72027 non-null   float64\n",
      " 9   LOCATION         217145 non-null  object \n",
      " 10  EXCEPTRSNCODE    101335 non-null  object \n",
      " 11  EXCEPTRSNDESC    11785 non-null   object \n",
      " 12  SEVERITYCODE     221737 non-null  object \n",
      " 13  SEVERITYDESC     221738 non-null  object \n",
      " 14  COLLISIONTYPE    195287 non-null  object \n",
      " 15  PERSONCOUNT      221738 non-null  int64  \n",
      " 16  PEDCOUNT         221738 non-null  int64  \n",
      " 17  PEDCYLCOUNT      221738 non-null  int64  \n",
      " 18  VEHCOUNT         221738 non-null  int64  \n",
      " 19  INJURIES         221738 non-null  int64  \n",
      " 20  SERIOUSINJURIES  221738 non-null  int64  \n",
      " 21  FATALITIES       221738 non-null  int64  \n",
      " 22  INCDATE          221738 non-null  object \n",
      " 23  INCDTTM          221738 non-null  object \n",
      " 24  JUNCTIONTYPE     209759 non-null  object \n",
      " 25  SDOT_COLCODE     221737 non-null  float64\n",
      " 26  SDOT_COLDESC     221737 non-null  object \n",
      " 27  INATTENTIONIND   30188 non-null   object \n",
      " 28  UNDERINFL        195307 non-null  object \n",
      " 29  WEATHER          195097 non-null  object \n",
      " 30  ROADCOND         195178 non-null  object \n",
      " 31  LIGHTCOND        195008 non-null  object \n",
      " 32  PEDROWNOTGRNT    5195 non-null    object \n",
      " 33  SDOTCOLNUM       127205 non-null  float64\n",
      " 34  SPEEDING         9936 non-null    object \n",
      " 35  ST_COLCODE       212325 non-null  object \n",
      " 36  ST_COLDESC       195287 non-null  object \n",
      " 37  SEGLANEKEY       221738 non-null  int64  \n",
      " 38  CROSSWALKKEY     221738 non-null  int64  \n",
      " 39  HITPARKEDCAR     221738 non-null  object \n",
      "dtypes: float64(5), int64(12), object(23)\n",
      "memory usage: 67.7+ MB\n"
     ]
    }
   ],
   "source": [
    "df.info()"
   ]
  },
  {
   "cell_type": "code",
   "execution_count": 3,
   "metadata": {},
   "outputs": [
    {
     "data": {
      "text/plain": [
       "1     137776\n",
       "2      58842\n",
       "0      21656\n",
       "2b      3111\n",
       "3        352\n",
       "Name: SEVERITYCODE, dtype: int64"
      ]
     },
     "execution_count": 3,
     "metadata": {},
     "output_type": "execute_result"
    }
   ],
   "source": [
    "df['SEVERITYCODE'].value_counts()"
   ]
  },
  {
   "cell_type": "code",
   "execution_count": 4,
   "metadata": {},
   "outputs": [
    {
     "data": {
      "text/plain": [
       "Property Damage Only Collision    137776\n",
       "Injury Collision                   58842\n",
       "Unknown                            21657\n",
       "Serious Injury Collision            3111\n",
       "Fatality Collision                   352\n",
       "Name: SEVERITYDESC, dtype: int64"
      ]
     },
     "execution_count": 4,
     "metadata": {},
     "output_type": "execute_result"
    }
   ],
   "source": [
    "df['SEVERITYDESC'].value_counts()\n"
   ]
  },
  {
   "cell_type": "code",
   "execution_count": 5,
   "metadata": {},
   "outputs": [
    {
     "data": {
      "text/html": [
       "<div>\n",
       "<style scoped>\n",
       "    .dataframe tbody tr th:only-of-type {\n",
       "        vertical-align: middle;\n",
       "    }\n",
       "\n",
       "    .dataframe tbody tr th {\n",
       "        vertical-align: top;\n",
       "    }\n",
       "\n",
       "    .dataframe thead th {\n",
       "        text-align: right;\n",
       "    }\n",
       "</style>\n",
       "<table border=\"1\" class=\"dataframe\">\n",
       "  <thead>\n",
       "    <tr style=\"text-align: right;\">\n",
       "      <th></th>\n",
       "      <th>X</th>\n",
       "      <th>Y</th>\n",
       "      <th>OBJECTID</th>\n",
       "      <th>INCKEY</th>\n",
       "      <th>COLDETKEY</th>\n",
       "      <th>INTKEY</th>\n",
       "      <th>PERSONCOUNT</th>\n",
       "      <th>PEDCOUNT</th>\n",
       "      <th>PEDCYLCOUNT</th>\n",
       "      <th>VEHCOUNT</th>\n",
       "      <th>INJURIES</th>\n",
       "      <th>SERIOUSINJURIES</th>\n",
       "      <th>FATALITIES</th>\n",
       "      <th>SDOT_COLCODE</th>\n",
       "      <th>SDOTCOLNUM</th>\n",
       "      <th>SEGLANEKEY</th>\n",
       "      <th>CROSSWALKKEY</th>\n",
       "    </tr>\n",
       "  </thead>\n",
       "  <tbody>\n",
       "    <tr>\n",
       "      <th>count</th>\n",
       "      <td>214260.000000</td>\n",
       "      <td>214260.000000</td>\n",
       "      <td>221738.000000</td>\n",
       "      <td>221738.000000</td>\n",
       "      <td>221738.000000</td>\n",
       "      <td>72027.000000</td>\n",
       "      <td>221738.000000</td>\n",
       "      <td>221738.000000</td>\n",
       "      <td>221738.000000</td>\n",
       "      <td>221738.000000</td>\n",
       "      <td>221738.000000</td>\n",
       "      <td>221738.000000</td>\n",
       "      <td>221738.000000</td>\n",
       "      <td>221737.000000</td>\n",
       "      <td>1.272050e+05</td>\n",
       "      <td>221738.000000</td>\n",
       "      <td>2.217380e+05</td>\n",
       "    </tr>\n",
       "    <tr>\n",
       "      <th>mean</th>\n",
       "      <td>-122.330753</td>\n",
       "      <td>47.620191</td>\n",
       "      <td>110869.500000</td>\n",
       "      <td>145006.735517</td>\n",
       "      <td>145236.969811</td>\n",
       "      <td>37636.986713</td>\n",
       "      <td>2.226741</td>\n",
       "      <td>0.038095</td>\n",
       "      <td>0.027352</td>\n",
       "      <td>1.729442</td>\n",
       "      <td>0.373964</td>\n",
       "      <td>0.015203</td>\n",
       "      <td>0.001700</td>\n",
       "      <td>13.383305</td>\n",
       "      <td>7.971063e+06</td>\n",
       "      <td>262.624791</td>\n",
       "      <td>9.568044e+03</td>\n",
       "    </tr>\n",
       "    <tr>\n",
       "      <th>std</th>\n",
       "      <td>0.030058</td>\n",
       "      <td>0.056059</td>\n",
       "      <td>64010.391332</td>\n",
       "      <td>89372.351774</td>\n",
       "      <td>89749.554004</td>\n",
       "      <td>52000.820955</td>\n",
       "      <td>1.469699</td>\n",
       "      <td>0.201704</td>\n",
       "      <td>0.164512</td>\n",
       "      <td>0.830529</td>\n",
       "      <td>0.732050</td>\n",
       "      <td>0.158004</td>\n",
       "      <td>0.044967</td>\n",
       "      <td>7.298289</td>\n",
       "      <td>2.611523e+06</td>\n",
       "      <td>3252.882590</td>\n",
       "      <td>7.142784e+04</td>\n",
       "    </tr>\n",
       "    <tr>\n",
       "      <th>min</th>\n",
       "      <td>-122.419091</td>\n",
       "      <td>47.495573</td>\n",
       "      <td>1.000000</td>\n",
       "      <td>1001.000000</td>\n",
       "      <td>1001.000000</td>\n",
       "      <td>23807.000000</td>\n",
       "      <td>0.000000</td>\n",
       "      <td>0.000000</td>\n",
       "      <td>0.000000</td>\n",
       "      <td>0.000000</td>\n",
       "      <td>0.000000</td>\n",
       "      <td>0.000000</td>\n",
       "      <td>0.000000</td>\n",
       "      <td>0.000000</td>\n",
       "      <td>1.007024e+06</td>\n",
       "      <td>0.000000</td>\n",
       "      <td>0.000000e+00</td>\n",
       "    </tr>\n",
       "    <tr>\n",
       "      <th>25%</th>\n",
       "      <td>-122.349280</td>\n",
       "      <td>47.577106</td>\n",
       "      <td>55435.250000</td>\n",
       "      <td>71721.250000</td>\n",
       "      <td>71721.250000</td>\n",
       "      <td>28653.000000</td>\n",
       "      <td>2.000000</td>\n",
       "      <td>0.000000</td>\n",
       "      <td>0.000000</td>\n",
       "      <td>2.000000</td>\n",
       "      <td>0.000000</td>\n",
       "      <td>0.000000</td>\n",
       "      <td>0.000000</td>\n",
       "      <td>11.000000</td>\n",
       "      <td>6.007029e+06</td>\n",
       "      <td>0.000000</td>\n",
       "      <td>0.000000e+00</td>\n",
       "    </tr>\n",
       "    <tr>\n",
       "      <th>50%</th>\n",
       "      <td>-122.330363</td>\n",
       "      <td>47.616033</td>\n",
       "      <td>110869.500000</td>\n",
       "      <td>127358.500000</td>\n",
       "      <td>127358.500000</td>\n",
       "      <td>29973.000000</td>\n",
       "      <td>2.000000</td>\n",
       "      <td>0.000000</td>\n",
       "      <td>0.000000</td>\n",
       "      <td>2.000000</td>\n",
       "      <td>0.000000</td>\n",
       "      <td>0.000000</td>\n",
       "      <td>0.000000</td>\n",
       "      <td>11.000000</td>\n",
       "      <td>8.033011e+06</td>\n",
       "      <td>0.000000</td>\n",
       "      <td>0.000000e+00</td>\n",
       "    </tr>\n",
       "    <tr>\n",
       "      <th>75%</th>\n",
       "      <td>-122.311998</td>\n",
       "      <td>47.664290</td>\n",
       "      <td>166303.750000</td>\n",
       "      <td>210118.750000</td>\n",
       "      <td>210338.750000</td>\n",
       "      <td>33984.000000</td>\n",
       "      <td>3.000000</td>\n",
       "      <td>0.000000</td>\n",
       "      <td>0.000000</td>\n",
       "      <td>2.000000</td>\n",
       "      <td>1.000000</td>\n",
       "      <td>0.000000</td>\n",
       "      <td>0.000000</td>\n",
       "      <td>14.000000</td>\n",
       "      <td>1.018101e+07</td>\n",
       "      <td>0.000000</td>\n",
       "      <td>0.000000e+00</td>\n",
       "    </tr>\n",
       "    <tr>\n",
       "      <th>max</th>\n",
       "      <td>-122.238949</td>\n",
       "      <td>47.734142</td>\n",
       "      <td>221738.000000</td>\n",
       "      <td>334276.000000</td>\n",
       "      <td>335776.000000</td>\n",
       "      <td>764413.000000</td>\n",
       "      <td>93.000000</td>\n",
       "      <td>6.000000</td>\n",
       "      <td>2.000000</td>\n",
       "      <td>15.000000</td>\n",
       "      <td>78.000000</td>\n",
       "      <td>41.000000</td>\n",
       "      <td>5.000000</td>\n",
       "      <td>87.000000</td>\n",
       "      <td>1.307202e+07</td>\n",
       "      <td>525241.000000</td>\n",
       "      <td>5.239700e+06</td>\n",
       "    </tr>\n",
       "  </tbody>\n",
       "</table>\n",
       "</div>"
      ],
      "text/plain": [
       "                   X              Y       OBJECTID         INCKEY  \\\n",
       "count  214260.000000  214260.000000  221738.000000  221738.000000   \n",
       "mean     -122.330753      47.620191  110869.500000  145006.735517   \n",
       "std         0.030058       0.056059   64010.391332   89372.351774   \n",
       "min      -122.419091      47.495573       1.000000    1001.000000   \n",
       "25%      -122.349280      47.577106   55435.250000   71721.250000   \n",
       "50%      -122.330363      47.616033  110869.500000  127358.500000   \n",
       "75%      -122.311998      47.664290  166303.750000  210118.750000   \n",
       "max      -122.238949      47.734142  221738.000000  334276.000000   \n",
       "\n",
       "           COLDETKEY         INTKEY    PERSONCOUNT       PEDCOUNT  \\\n",
       "count  221738.000000   72027.000000  221738.000000  221738.000000   \n",
       "mean   145236.969811   37636.986713       2.226741       0.038095   \n",
       "std     89749.554004   52000.820955       1.469699       0.201704   \n",
       "min      1001.000000   23807.000000       0.000000       0.000000   \n",
       "25%     71721.250000   28653.000000       2.000000       0.000000   \n",
       "50%    127358.500000   29973.000000       2.000000       0.000000   \n",
       "75%    210338.750000   33984.000000       3.000000       0.000000   \n",
       "max    335776.000000  764413.000000      93.000000       6.000000   \n",
       "\n",
       "         PEDCYLCOUNT       VEHCOUNT       INJURIES  SERIOUSINJURIES  \\\n",
       "count  221738.000000  221738.000000  221738.000000    221738.000000   \n",
       "mean        0.027352       1.729442       0.373964         0.015203   \n",
       "std         0.164512       0.830529       0.732050         0.158004   \n",
       "min         0.000000       0.000000       0.000000         0.000000   \n",
       "25%         0.000000       2.000000       0.000000         0.000000   \n",
       "50%         0.000000       2.000000       0.000000         0.000000   \n",
       "75%         0.000000       2.000000       1.000000         0.000000   \n",
       "max         2.000000      15.000000      78.000000        41.000000   \n",
       "\n",
       "          FATALITIES   SDOT_COLCODE    SDOTCOLNUM     SEGLANEKEY  CROSSWALKKEY  \n",
       "count  221738.000000  221737.000000  1.272050e+05  221738.000000  2.217380e+05  \n",
       "mean        0.001700      13.383305  7.971063e+06     262.624791  9.568044e+03  \n",
       "std         0.044967       7.298289  2.611523e+06    3252.882590  7.142784e+04  \n",
       "min         0.000000       0.000000  1.007024e+06       0.000000  0.000000e+00  \n",
       "25%         0.000000      11.000000  6.007029e+06       0.000000  0.000000e+00  \n",
       "50%         0.000000      11.000000  8.033011e+06       0.000000  0.000000e+00  \n",
       "75%         0.000000      14.000000  1.018101e+07       0.000000  0.000000e+00  \n",
       "max         5.000000      87.000000  1.307202e+07  525241.000000  5.239700e+06  "
      ]
     },
     "execution_count": 5,
     "metadata": {},
     "output_type": "execute_result"
    }
   ],
   "source": [
    "df.describe()"
   ]
  },
  {
   "cell_type": "code",
   "execution_count": 6,
   "metadata": {},
   "outputs": [
    {
     "name": "stdout",
     "output_type": "stream",
     "text": [
      "(221738, 40)\n"
     ]
    }
   ],
   "source": [
    "print(df.shape)"
   ]
  },
  {
   "cell_type": "code",
   "execution_count": 7,
   "metadata": {},
   "outputs": [
    {
     "data": {
      "text/plain": [
       "1    137776\n",
       "2     58842\n",
       "0     21656\n",
       "4      3111\n",
       "3       352\n",
       "Name: SEVERITYCODE, dtype: int64"
      ]
     },
     "execution_count": 7,
     "metadata": {},
     "output_type": "execute_result"
    }
   ],
   "source": [
    "df['SEVERITYCODE'].replace(\"2b\", \n",
    "           \"4\", \n",
    "           inplace=True)\n",
    "df['SEVERITYCODE'].value_counts()"
   ]
  },
  {
   "cell_type": "code",
   "execution_count": 8,
   "metadata": {},
   "outputs": [
    {
     "data": {
      "text/plain": [
       "1.0    137776\n",
       "2.0     58842\n",
       "0.0     21656\n",
       "4.0      3111\n",
       "3.0       352\n",
       "Name: SEVERITYCODE, dtype: int64"
      ]
     },
     "execution_count": 8,
     "metadata": {},
     "output_type": "execute_result"
    }
   ],
   "source": [
    "df[\"SEVERITYCODE\"] = pd.to_numeric(df[\"SEVERITYCODE\"])\n",
    "df['SEVERITYCODE'].value_counts()"
   ]
  },
  {
   "cell_type": "code",
   "execution_count": 9,
   "metadata": {},
   "outputs": [
    {
     "data": {
      "text/plain": [
       "array([[<matplotlib.axes._subplots.AxesSubplot object at 0x000001CF686BC2B0>]],\n",
       "      dtype=object)"
      ]
     },
     "execution_count": 9,
     "metadata": {},
     "output_type": "execute_result"
    },
    {
     "data": {
      "image/png": "[encoded data removed]",
      "text/plain": [
       "<Figure size 432x288 with 1 Axes>"
      ]
     },
     "metadata": {
      "needs_background": "light"
     },
     "output_type": "display_data"
    }
   ],
   "source": [
    "df.hist(column='SEVERITYCODE')"
   ]
  },
  {
   "cell_type": "code",
   "execution_count": 10,
   "metadata": {},
   "outputs": [
    {
     "data": {
      "text/plain": [
       "1.0    65000\n",
       "2.0    58842\n",
       "0.0    21656\n",
       "4.0     3111\n",
       "3.0      352\n",
       "Name: SEVERITYCODE, dtype: int64"
      ]
     },
     "execution_count": 10,
     "metadata": {},
     "output_type": "execute_result"
    }
   ],
   "source": [
    "from sklearn.utils import resample\n",
    "\n",
    "df_maj = df[df.SEVERITYCODE==1]\n",
    "df_min = df[df.SEVERITYCODE!=1]\n",
    "\n",
    "df_dsample = resample(df_maj,\n",
    "                      replace=False,\n",
    "                      n_samples= 65000,\n",
    "                      random_state=123)\n",
    "\n",
    "balanced_df = pd.concat([df_dsample, df_min])\n",
    "\n",
    "balanced_df['SEVERITYCODE'].value_counts()"
   ]
  },
  {
   "cell_type": "code",
   "execution_count": 11,
   "metadata": {},
   "outputs": [
    {
     "data": {
      "text/html": [
       "<div>\n",
       "<style scoped>\n",
       "    .dataframe tbody tr th:only-of-type {\n",
       "        vertical-align: middle;\n",
       "    }\n",
       "\n",
       "    .dataframe tbody tr th {\n",
       "        vertical-align: top;\n",
       "    }\n",
       "\n",
       "    .dataframe thead th {\n",
       "        text-align: right;\n",
       "    }\n",
       "</style>\n",
       "<table border=\"1\" class=\"dataframe\">\n",
       "  <thead>\n",
       "    <tr style=\"text-align: right;\">\n",
       "      <th></th>\n",
       "      <th>X</th>\n",
       "      <th>Y</th>\n",
       "      <th>SEVERITYCODE</th>\n",
       "      <th>SEVERITYDESC</th>\n",
       "      <th>COLLISIONTYPE</th>\n",
       "      <th>PERSONCOUNT</th>\n",
       "      <th>PEDCOUNT</th>\n",
       "      <th>PEDCYLCOUNT</th>\n",
       "      <th>VEHCOUNT</th>\n",
       "      <th>INJURIES</th>\n",
       "      <th>SERIOUSINJURIES</th>\n",
       "      <th>FATALITIES</th>\n",
       "      <th>JUNCTIONTYPE</th>\n",
       "      <th>WEATHER</th>\n",
       "      <th>ROADCOND</th>\n",
       "      <th>LIGHTCOND</th>\n",
       "      <th>SPEEDING</th>\n",
       "    </tr>\n",
       "  </thead>\n",
       "  <tbody>\n",
       "    <tr>\n",
       "      <th>140443</th>\n",
       "      <td>-122.328225</td>\n",
       "      <td>47.529262</td>\n",
       "      <td>1.0</td>\n",
       "      <td>Property Damage Only Collision</td>\n",
       "      <td>Right Turn</td>\n",
       "      <td>2</td>\n",
       "      <td>0</td>\n",
       "      <td>0</td>\n",
       "      <td>2</td>\n",
       "      <td>0</td>\n",
       "      <td>0</td>\n",
       "      <td>0</td>\n",
       "      <td>Mid-Block (not related to intersection)</td>\n",
       "      <td>Overcast</td>\n",
       "      <td>Wet</td>\n",
       "      <td>Dawn</td>\n",
       "      <td>NaN</td>\n",
       "    </tr>\n",
       "    <tr>\n",
       "      <th>146269</th>\n",
       "      <td>-122.353427</td>\n",
       "      <td>47.646887</td>\n",
       "      <td>1.0</td>\n",
       "      <td>Property Damage Only Collision</td>\n",
       "      <td>Parked Car</td>\n",
       "      <td>2</td>\n",
       "      <td>0</td>\n",
       "      <td>0</td>\n",
       "      <td>2</td>\n",
       "      <td>0</td>\n",
       "      <td>0</td>\n",
       "      <td>0</td>\n",
       "      <td>At Intersection (intersection related)</td>\n",
       "      <td>Unknown</td>\n",
       "      <td>Unknown</td>\n",
       "      <td>Unknown</td>\n",
       "      <td>NaN</td>\n",
       "    </tr>\n",
       "    <tr>\n",
       "      <th>122846</th>\n",
       "      <td>-122.356715</td>\n",
       "      <td>47.623929</td>\n",
       "      <td>1.0</td>\n",
       "      <td>Property Damage Only Collision</td>\n",
       "      <td>Parked Car</td>\n",
       "      <td>2</td>\n",
       "      <td>0</td>\n",
       "      <td>0</td>\n",
       "      <td>2</td>\n",
       "      <td>0</td>\n",
       "      <td>0</td>\n",
       "      <td>0</td>\n",
       "      <td>Mid-Block (not related to intersection)</td>\n",
       "      <td>Clear</td>\n",
       "      <td>Dry</td>\n",
       "      <td>Daylight</td>\n",
       "      <td>NaN</td>\n",
       "    </tr>\n",
       "    <tr>\n",
       "      <th>200391</th>\n",
       "      <td>-122.335094</td>\n",
       "      <td>47.708169</td>\n",
       "      <td>1.0</td>\n",
       "      <td>Property Damage Only Collision</td>\n",
       "      <td>Sideswipe</td>\n",
       "      <td>3</td>\n",
       "      <td>0</td>\n",
       "      <td>0</td>\n",
       "      <td>2</td>\n",
       "      <td>0</td>\n",
       "      <td>0</td>\n",
       "      <td>0</td>\n",
       "      <td>Mid-Block (not related to intersection)</td>\n",
       "      <td>Clear</td>\n",
       "      <td>Dry</td>\n",
       "      <td>Daylight</td>\n",
       "      <td>NaN</td>\n",
       "    </tr>\n",
       "    <tr>\n",
       "      <th>9379</th>\n",
       "      <td>-122.314301</td>\n",
       "      <td>47.547709</td>\n",
       "      <td>1.0</td>\n",
       "      <td>Property Damage Only Collision</td>\n",
       "      <td>Other</td>\n",
       "      <td>1</td>\n",
       "      <td>0</td>\n",
       "      <td>0</td>\n",
       "      <td>1</td>\n",
       "      <td>0</td>\n",
       "      <td>0</td>\n",
       "      <td>0</td>\n",
       "      <td>Mid-Block (not related to intersection)</td>\n",
       "      <td>Raining</td>\n",
       "      <td>Wet</td>\n",
       "      <td>Daylight</td>\n",
       "      <td>NaN</td>\n",
       "    </tr>\n",
       "    <tr>\n",
       "      <th>119711</th>\n",
       "      <td>-122.338693</td>\n",
       "      <td>47.652335</td>\n",
       "      <td>1.0</td>\n",
       "      <td>Property Damage Only Collision</td>\n",
       "      <td>Parked Car</td>\n",
       "      <td>2</td>\n",
       "      <td>0</td>\n",
       "      <td>0</td>\n",
       "      <td>2</td>\n",
       "      <td>0</td>\n",
       "      <td>0</td>\n",
       "      <td>0</td>\n",
       "      <td>NaN</td>\n",
       "      <td>Unknown</td>\n",
       "      <td>Unknown</td>\n",
       "      <td>Unknown</td>\n",
       "      <td>NaN</td>\n",
       "    </tr>\n",
       "    <tr>\n",
       "      <th>76534</th>\n",
       "      <td>-122.323754</td>\n",
       "      <td>47.598350</td>\n",
       "      <td>1.0</td>\n",
       "      <td>Property Damage Only Collision</td>\n",
       "      <td>Angles</td>\n",
       "      <td>2</td>\n",
       "      <td>0</td>\n",
       "      <td>0</td>\n",
       "      <td>2</td>\n",
       "      <td>0</td>\n",
       "      <td>0</td>\n",
       "      <td>0</td>\n",
       "      <td>At Intersection (intersection related)</td>\n",
       "      <td>Clear</td>\n",
       "      <td>Dry</td>\n",
       "      <td>Daylight</td>\n",
       "      <td>NaN</td>\n",
       "    </tr>\n",
       "    <tr>\n",
       "      <th>214363</th>\n",
       "      <td>-122.335036</td>\n",
       "      <td>47.697772</td>\n",
       "      <td>1.0</td>\n",
       "      <td>Property Damage Only Collision</td>\n",
       "      <td>Angles</td>\n",
       "      <td>3</td>\n",
       "      <td>0</td>\n",
       "      <td>0</td>\n",
       "      <td>2</td>\n",
       "      <td>0</td>\n",
       "      <td>0</td>\n",
       "      <td>0</td>\n",
       "      <td>At Intersection (intersection related)</td>\n",
       "      <td>Overcast</td>\n",
       "      <td>Wet</td>\n",
       "      <td>Daylight</td>\n",
       "      <td>NaN</td>\n",
       "    </tr>\n",
       "    <tr>\n",
       "      <th>215118</th>\n",
       "      <td>-122.334198</td>\n",
       "      <td>47.585043</td>\n",
       "      <td>1.0</td>\n",
       "      <td>Property Damage Only Collision</td>\n",
       "      <td>Sideswipe</td>\n",
       "      <td>2</td>\n",
       "      <td>0</td>\n",
       "      <td>0</td>\n",
       "      <td>2</td>\n",
       "      <td>0</td>\n",
       "      <td>0</td>\n",
       "      <td>0</td>\n",
       "      <td>Mid-Block (not related to intersection)</td>\n",
       "      <td>Overcast</td>\n",
       "      <td>Dry</td>\n",
       "      <td>Daylight</td>\n",
       "      <td>NaN</td>\n",
       "    </tr>\n",
       "    <tr>\n",
       "      <th>41613</th>\n",
       "      <td>-122.320603</td>\n",
       "      <td>47.710395</td>\n",
       "      <td>1.0</td>\n",
       "      <td>Property Damage Only Collision</td>\n",
       "      <td>Other</td>\n",
       "      <td>2</td>\n",
       "      <td>0</td>\n",
       "      <td>0</td>\n",
       "      <td>2</td>\n",
       "      <td>0</td>\n",
       "      <td>0</td>\n",
       "      <td>0</td>\n",
       "      <td>Mid-Block (not related to intersection)</td>\n",
       "      <td>Clear</td>\n",
       "      <td>Dry</td>\n",
       "      <td>Daylight</td>\n",
       "      <td>NaN</td>\n",
       "    </tr>\n",
       "  </tbody>\n",
       "</table>\n",
       "</div>"
      ],
      "text/plain": [
       "                 X          Y  SEVERITYCODE                    SEVERITYDESC  \\\n",
       "140443 -122.328225  47.529262           1.0  Property Damage Only Collision   \n",
       "146269 -122.353427  47.646887           1.0  Property Damage Only Collision   \n",
       "122846 -122.356715  47.623929           1.0  Property Damage Only Collision   \n",
       "200391 -122.335094  47.708169           1.0  Property Damage Only Collision   \n",
       "9379   -122.314301  47.547709           1.0  Property Damage Only Collision   \n",
       "119711 -122.338693  47.652335           1.0  Property Damage Only Collision   \n",
       "76534  -122.323754  47.598350           1.0  Property Damage Only Collision   \n",
       "214363 -122.335036  47.697772           1.0  Property Damage Only Collision   \n",
       "215118 -122.334198  47.585043           1.0  Property Damage Only Collision   \n",
       "41613  -122.320603  47.710395           1.0  Property Damage Only Collision   \n",
       "\n",
       "       COLLISIONTYPE  PERSONCOUNT  PEDCOUNT  PEDCYLCOUNT  VEHCOUNT  INJURIES  \\\n",
       "140443    Right Turn            2         0            0         2         0   \n",
       "146269    Parked Car            2         0            0         2         0   \n",
       "122846    Parked Car            2         0            0         2         0   \n",
       "200391     Sideswipe            3         0            0         2         0   \n",
       "9379           Other            1         0            0         1         0   \n",
       "119711    Parked Car            2         0            0         2         0   \n",
       "76534         Angles            2         0            0         2         0   \n",
       "214363        Angles            3         0            0         2         0   \n",
       "215118     Sideswipe            2         0            0         2         0   \n",
       "41613          Other            2         0            0         2         0   \n",
       "\n",
       "        SERIOUSINJURIES  FATALITIES                             JUNCTIONTYPE  \\\n",
       "140443                0           0  Mid-Block (not related to intersection)   \n",
       "146269                0           0   At Intersection (intersection related)   \n",
       "122846                0           0  Mid-Block (not related to intersection)   \n",
       "200391                0           0  Mid-Block (not related to intersection)   \n",
       "9379                  0           0  Mid-Block (not related to intersection)   \n",
       "119711                0           0                                      NaN   \n",
       "76534                 0           0   At Intersection (intersection related)   \n",
       "214363                0           0   At Intersection (intersection related)   \n",
       "215118                0           0  Mid-Block (not related to intersection)   \n",
       "41613                 0           0  Mid-Block (not related to intersection)   \n",
       "\n",
       "         WEATHER ROADCOND LIGHTCOND SPEEDING  \n",
       "140443  Overcast      Wet      Dawn      NaN  \n",
       "146269   Unknown  Unknown   Unknown      NaN  \n",
       "122846     Clear      Dry  Daylight      NaN  \n",
       "200391     Clear      Dry  Daylight      NaN  \n",
       "9379     Raining      Wet  Daylight      NaN  \n",
       "119711   Unknown  Unknown   Unknown      NaN  \n",
       "76534      Clear      Dry  Daylight      NaN  \n",
       "214363  Overcast      Wet  Daylight      NaN  \n",
       "215118  Overcast      Dry  Daylight      NaN  \n",
       "41613      Clear      Dry  Daylight      NaN  "
      ]
     },
     "execution_count": 11,
     "metadata": {},
     "output_type": "execute_result"
    }
   ],
   "source": [
    "balanced_df[['X','Y','SEVERITYCODE','SEVERITYDESC','COLLISIONTYPE','PERSONCOUNT','PEDCOUNT','PEDCYLCOUNT','VEHCOUNT','INJURIES','SERIOUSINJURIES','FATALITIES','JUNCTIONTYPE','WEATHER','ROADCOND','LIGHTCOND','SPEEDING']].head(10)"
   ]
  },
  {
   "cell_type": "code",
   "execution_count": 12,
   "metadata": {},
   "outputs": [
    {
     "data": {
      "text/html": [
       "<div>\n",
       "<style scoped>\n",
       "    .dataframe tbody tr th:only-of-type {\n",
       "        vertical-align: middle;\n",
       "    }\n",
       "\n",
       "    .dataframe tbody tr th {\n",
       "        vertical-align: top;\n",
       "    }\n",
       "\n",
       "    .dataframe thead th {\n",
       "        text-align: right;\n",
       "    }\n",
       "</style>\n",
       "<table border=\"1\" class=\"dataframe\">\n",
       "  <thead>\n",
       "    <tr style=\"text-align: right;\">\n",
       "      <th></th>\n",
       "      <th>SEVERITYCODE</th>\n",
       "      <th>COLLISIONTYPE</th>\n",
       "      <th>PERSONCOUNT</th>\n",
       "      <th>PEDCOUNT</th>\n",
       "      <th>PEDCYLCOUNT</th>\n",
       "      <th>VEHCOUNT</th>\n",
       "      <th>INJURIES</th>\n",
       "      <th>SERIOUSINJURIES</th>\n",
       "      <th>FATALITIES</th>\n",
       "      <th>JUNCTIONTYPE</th>\n",
       "      <th>WEATHER</th>\n",
       "      <th>ROADCOND</th>\n",
       "      <th>LIGHTCOND</th>\n",
       "      <th>SPEEDING</th>\n",
       "    </tr>\n",
       "  </thead>\n",
       "  <tbody>\n",
       "    <tr>\n",
       "      <th>140443</th>\n",
       "      <td>1.0</td>\n",
       "      <td>Right Turn</td>\n",
       "      <td>2</td>\n",
       "      <td>0</td>\n",
       "      <td>0</td>\n",
       "      <td>2</td>\n",
       "      <td>0</td>\n",
       "      <td>0</td>\n",
       "      <td>0</td>\n",
       "      <td>Mid-Block (not related to intersection)</td>\n",
       "      <td>Overcast</td>\n",
       "      <td>Wet</td>\n",
       "      <td>Dawn</td>\n",
       "      <td>NaN</td>\n",
       "    </tr>\n",
       "    <tr>\n",
       "      <th>146269</th>\n",
       "      <td>1.0</td>\n",
       "      <td>Parked Car</td>\n",
       "      <td>2</td>\n",
       "      <td>0</td>\n",
       "      <td>0</td>\n",
       "      <td>2</td>\n",
       "      <td>0</td>\n",
       "      <td>0</td>\n",
       "      <td>0</td>\n",
       "      <td>At Intersection (intersection related)</td>\n",
       "      <td>Unknown</td>\n",
       "      <td>Unknown</td>\n",
       "      <td>Unknown</td>\n",
       "      <td>NaN</td>\n",
       "    </tr>\n",
       "    <tr>\n",
       "      <th>122846</th>\n",
       "      <td>1.0</td>\n",
       "      <td>Parked Car</td>\n",
       "      <td>2</td>\n",
       "      <td>0</td>\n",
       "      <td>0</td>\n",
       "      <td>2</td>\n",
       "      <td>0</td>\n",
       "      <td>0</td>\n",
       "      <td>0</td>\n",
       "      <td>Mid-Block (not related to intersection)</td>\n",
       "      <td>Clear</td>\n",
       "      <td>Dry</td>\n",
       "      <td>Daylight</td>\n",
       "      <td>NaN</td>\n",
       "    </tr>\n",
       "    <tr>\n",
       "      <th>200391</th>\n",
       "      <td>1.0</td>\n",
       "      <td>Sideswipe</td>\n",
       "      <td>3</td>\n",
       "      <td>0</td>\n",
       "      <td>0</td>\n",
       "      <td>2</td>\n",
       "      <td>0</td>\n",
       "      <td>0</td>\n",
       "      <td>0</td>\n",
       "      <td>Mid-Block (not related to intersection)</td>\n",
       "      <td>Clear</td>\n",
       "      <td>Dry</td>\n",
       "      <td>Daylight</td>\n",
       "      <td>NaN</td>\n",
       "    </tr>\n",
       "    <tr>\n",
       "      <th>9379</th>\n",
       "      <td>1.0</td>\n",
       "      <td>Other</td>\n",
       "      <td>1</td>\n",
       "      <td>0</td>\n",
       "      <td>0</td>\n",
       "      <td>1</td>\n",
       "      <td>0</td>\n",
       "      <td>0</td>\n",
       "      <td>0</td>\n",
       "      <td>Mid-Block (not related to intersection)</td>\n",
       "      <td>Raining</td>\n",
       "      <td>Wet</td>\n",
       "      <td>Daylight</td>\n",
       "      <td>NaN</td>\n",
       "    </tr>\n",
       "    <tr>\n",
       "      <th>119711</th>\n",
       "      <td>1.0</td>\n",
       "      <td>Parked Car</td>\n",
       "      <td>2</td>\n",
       "      <td>0</td>\n",
       "      <td>0</td>\n",
       "      <td>2</td>\n",
       "      <td>0</td>\n",
       "      <td>0</td>\n",
       "      <td>0</td>\n",
       "      <td>NaN</td>\n",
       "      <td>Unknown</td>\n",
       "      <td>Unknown</td>\n",
       "      <td>Unknown</td>\n",
       "      <td>NaN</td>\n",
       "    </tr>\n",
       "    <tr>\n",
       "      <th>76534</th>\n",
       "      <td>1.0</td>\n",
       "      <td>Angles</td>\n",
       "      <td>2</td>\n",
       "      <td>0</td>\n",
       "      <td>0</td>\n",
       "      <td>2</td>\n",
       "      <td>0</td>\n",
       "      <td>0</td>\n",
       "      <td>0</td>\n",
       "      <td>At Intersection (intersection related)</td>\n",
       "      <td>Clear</td>\n",
       "      <td>Dry</td>\n",
       "      <td>Daylight</td>\n",
       "      <td>NaN</td>\n",
       "    </tr>\n",
       "    <tr>\n",
       "      <th>214363</th>\n",
       "      <td>1.0</td>\n",
       "      <td>Angles</td>\n",
       "      <td>3</td>\n",
       "      <td>0</td>\n",
       "      <td>0</td>\n",
       "      <td>2</td>\n",
       "      <td>0</td>\n",
       "      <td>0</td>\n",
       "      <td>0</td>\n",
       "      <td>At Intersection (intersection related)</td>\n",
       "      <td>Overcast</td>\n",
       "      <td>Wet</td>\n",
       "      <td>Daylight</td>\n",
       "      <td>NaN</td>\n",
       "    </tr>\n",
       "    <tr>\n",
       "      <th>215118</th>\n",
       "      <td>1.0</td>\n",
       "      <td>Sideswipe</td>\n",
       "      <td>2</td>\n",
       "      <td>0</td>\n",
       "      <td>0</td>\n",
       "      <td>2</td>\n",
       "      <td>0</td>\n",
       "      <td>0</td>\n",
       "      <td>0</td>\n",
       "      <td>Mid-Block (not related to intersection)</td>\n",
       "      <td>Overcast</td>\n",
       "      <td>Dry</td>\n",
       "      <td>Daylight</td>\n",
       "      <td>NaN</td>\n",
       "    </tr>\n",
       "    <tr>\n",
       "      <th>41613</th>\n",
       "      <td>1.0</td>\n",
       "      <td>Other</td>\n",
       "      <td>2</td>\n",
       "      <td>0</td>\n",
       "      <td>0</td>\n",
       "      <td>2</td>\n",
       "      <td>0</td>\n",
       "      <td>0</td>\n",
       "      <td>0</td>\n",
       "      <td>Mid-Block (not related to intersection)</td>\n",
       "      <td>Clear</td>\n",
       "      <td>Dry</td>\n",
       "      <td>Daylight</td>\n",
       "      <td>NaN</td>\n",
       "    </tr>\n",
       "    <tr>\n",
       "      <th>43874</th>\n",
       "      <td>1.0</td>\n",
       "      <td>Rear Ended</td>\n",
       "      <td>3</td>\n",
       "      <td>0</td>\n",
       "      <td>0</td>\n",
       "      <td>2</td>\n",
       "      <td>0</td>\n",
       "      <td>0</td>\n",
       "      <td>0</td>\n",
       "      <td>Mid-Block (not related to intersection)</td>\n",
       "      <td>Raining</td>\n",
       "      <td>Wet</td>\n",
       "      <td>Daylight</td>\n",
       "      <td>NaN</td>\n",
       "    </tr>\n",
       "    <tr>\n",
       "      <th>134404</th>\n",
       "      <td>1.0</td>\n",
       "      <td>Parked Car</td>\n",
       "      <td>3</td>\n",
       "      <td>0</td>\n",
       "      <td>0</td>\n",
       "      <td>3</td>\n",
       "      <td>0</td>\n",
       "      <td>0</td>\n",
       "      <td>0</td>\n",
       "      <td>Mid-Block (not related to intersection)</td>\n",
       "      <td>Clear</td>\n",
       "      <td>Dry</td>\n",
       "      <td>Daylight</td>\n",
       "      <td>NaN</td>\n",
       "    </tr>\n",
       "    <tr>\n",
       "      <th>174090</th>\n",
       "      <td>1.0</td>\n",
       "      <td>NaN</td>\n",
       "      <td>2</td>\n",
       "      <td>0</td>\n",
       "      <td>0</td>\n",
       "      <td>0</td>\n",
       "      <td>0</td>\n",
       "      <td>0</td>\n",
       "      <td>0</td>\n",
       "      <td>At Intersection (but not related to intersection)</td>\n",
       "      <td>NaN</td>\n",
       "      <td>NaN</td>\n",
       "      <td>NaN</td>\n",
       "      <td>NaN</td>\n",
       "    </tr>\n",
       "    <tr>\n",
       "      <th>137799</th>\n",
       "      <td>1.0</td>\n",
       "      <td>Other</td>\n",
       "      <td>1</td>\n",
       "      <td>0</td>\n",
       "      <td>0</td>\n",
       "      <td>1</td>\n",
       "      <td>0</td>\n",
       "      <td>0</td>\n",
       "      <td>0</td>\n",
       "      <td>Mid-Block (not related to intersection)</td>\n",
       "      <td>Clear</td>\n",
       "      <td>Dry</td>\n",
       "      <td>Dark - Street Lights On</td>\n",
       "      <td>NaN</td>\n",
       "    </tr>\n",
       "    <tr>\n",
       "      <th>179211</th>\n",
       "      <td>1.0</td>\n",
       "      <td>Parked Car</td>\n",
       "      <td>2</td>\n",
       "      <td>0</td>\n",
       "      <td>0</td>\n",
       "      <td>2</td>\n",
       "      <td>0</td>\n",
       "      <td>0</td>\n",
       "      <td>0</td>\n",
       "      <td>Mid-Block (not related to intersection)</td>\n",
       "      <td>Overcast</td>\n",
       "      <td>Wet</td>\n",
       "      <td>Dark - Street Lights On</td>\n",
       "      <td>NaN</td>\n",
       "    </tr>\n",
       "    <tr>\n",
       "      <th>21162</th>\n",
       "      <td>1.0</td>\n",
       "      <td>Angles</td>\n",
       "      <td>3</td>\n",
       "      <td>0</td>\n",
       "      <td>0</td>\n",
       "      <td>2</td>\n",
       "      <td>0</td>\n",
       "      <td>0</td>\n",
       "      <td>0</td>\n",
       "      <td>At Intersection (intersection related)</td>\n",
       "      <td>Overcast</td>\n",
       "      <td>Dry</td>\n",
       "      <td>Daylight</td>\n",
       "      <td>NaN</td>\n",
       "    </tr>\n",
       "    <tr>\n",
       "      <th>178565</th>\n",
       "      <td>1.0</td>\n",
       "      <td>Other</td>\n",
       "      <td>1</td>\n",
       "      <td>0</td>\n",
       "      <td>0</td>\n",
       "      <td>1</td>\n",
       "      <td>0</td>\n",
       "      <td>0</td>\n",
       "      <td>0</td>\n",
       "      <td>NaN</td>\n",
       "      <td>Overcast</td>\n",
       "      <td>Wet</td>\n",
       "      <td>Daylight</td>\n",
       "      <td>NaN</td>\n",
       "    </tr>\n",
       "    <tr>\n",
       "      <th>78396</th>\n",
       "      <td>1.0</td>\n",
       "      <td>Parked Car</td>\n",
       "      <td>2</td>\n",
       "      <td>0</td>\n",
       "      <td>0</td>\n",
       "      <td>2</td>\n",
       "      <td>0</td>\n",
       "      <td>0</td>\n",
       "      <td>0</td>\n",
       "      <td>Mid-Block (not related to intersection)</td>\n",
       "      <td>Clear</td>\n",
       "      <td>Dry</td>\n",
       "      <td>Dark - Street Lights On</td>\n",
       "      <td>NaN</td>\n",
       "    </tr>\n",
       "    <tr>\n",
       "      <th>35560</th>\n",
       "      <td>1.0</td>\n",
       "      <td>Rear Ended</td>\n",
       "      <td>6</td>\n",
       "      <td>0</td>\n",
       "      <td>0</td>\n",
       "      <td>2</td>\n",
       "      <td>0</td>\n",
       "      <td>0</td>\n",
       "      <td>0</td>\n",
       "      <td>Mid-Block (not related to intersection)</td>\n",
       "      <td>Raining</td>\n",
       "      <td>Wet</td>\n",
       "      <td>Dark - Street Lights On</td>\n",
       "      <td>NaN</td>\n",
       "    </tr>\n",
       "    <tr>\n",
       "      <th>131210</th>\n",
       "      <td>1.0</td>\n",
       "      <td>Rear Ended</td>\n",
       "      <td>2</td>\n",
       "      <td>0</td>\n",
       "      <td>0</td>\n",
       "      <td>2</td>\n",
       "      <td>0</td>\n",
       "      <td>0</td>\n",
       "      <td>0</td>\n",
       "      <td>At Intersection (intersection related)</td>\n",
       "      <td>Clear</td>\n",
       "      <td>Dry</td>\n",
       "      <td>Daylight</td>\n",
       "      <td>NaN</td>\n",
       "    </tr>\n",
       "  </tbody>\n",
       "</table>\n",
       "</div>"
      ],
      "text/plain": [
       "        SEVERITYCODE COLLISIONTYPE  PERSONCOUNT  PEDCOUNT  PEDCYLCOUNT  \\\n",
       "140443           1.0    Right Turn            2         0            0   \n",
       "146269           1.0    Parked Car            2         0            0   \n",
       "122846           1.0    Parked Car            2         0            0   \n",
       "200391           1.0     Sideswipe            3         0            0   \n",
       "9379             1.0         Other            1         0            0   \n",
       "119711           1.0    Parked Car            2         0            0   \n",
       "76534            1.0        Angles            2         0            0   \n",
       "214363           1.0        Angles            3         0            0   \n",
       "215118           1.0     Sideswipe            2         0            0   \n",
       "41613            1.0         Other            2         0            0   \n",
       "43874            1.0    Rear Ended            3         0            0   \n",
       "134404           1.0    Parked Car            3         0            0   \n",
       "174090           1.0           NaN            2         0            0   \n",
       "137799           1.0         Other            1         0            0   \n",
       "179211           1.0    Parked Car            2         0            0   \n",
       "21162            1.0        Angles            3         0            0   \n",
       "178565           1.0         Other            1         0            0   \n",
       "78396            1.0    Parked Car            2         0            0   \n",
       "35560            1.0    Rear Ended            6         0            0   \n",
       "131210           1.0    Rear Ended            2         0            0   \n",
       "\n",
       "        VEHCOUNT  INJURIES  SERIOUSINJURIES  FATALITIES  \\\n",
       "140443         2         0                0           0   \n",
       "146269         2         0                0           0   \n",
       "122846         2         0                0           0   \n",
       "200391         2         0                0           0   \n",
       "9379           1         0                0           0   \n",
       "119711         2         0                0           0   \n",
       "76534          2         0                0           0   \n",
       "214363         2         0                0           0   \n",
       "215118         2         0                0           0   \n",
       "41613          2         0                0           0   \n",
       "43874          2         0                0           0   \n",
       "134404         3         0                0           0   \n",
       "174090         0         0                0           0   \n",
       "137799         1         0                0           0   \n",
       "179211         2         0                0           0   \n",
       "21162          2         0                0           0   \n",
       "178565         1         0                0           0   \n",
       "78396          2         0                0           0   \n",
       "35560          2         0                0           0   \n",
       "131210         2         0                0           0   \n",
       "\n",
       "                                             JUNCTIONTYPE   WEATHER ROADCOND  \\\n",
       "140443            Mid-Block (not related to intersection)  Overcast      Wet   \n",
       "146269             At Intersection (intersection related)   Unknown  Unknown   \n",
       "122846            Mid-Block (not related to intersection)     Clear      Dry   \n",
       "200391            Mid-Block (not related to intersection)     Clear      Dry   \n",
       "9379              Mid-Block (not related to intersection)   Raining      Wet   \n",
       "119711                                                NaN   Unknown  Unknown   \n",
       "76534              At Intersection (intersection related)     Clear      Dry   \n",
       "214363             At Intersection (intersection related)  Overcast      Wet   \n",
       "215118            Mid-Block (not related to intersection)  Overcast      Dry   \n",
       "41613             Mid-Block (not related to intersection)     Clear      Dry   \n",
       "43874             Mid-Block (not related to intersection)   Raining      Wet   \n",
       "134404            Mid-Block (not related to intersection)     Clear      Dry   \n",
       "174090  At Intersection (but not related to intersection)       NaN      NaN   \n",
       "137799            Mid-Block (not related to intersection)     Clear      Dry   \n",
       "179211            Mid-Block (not related to intersection)  Overcast      Wet   \n",
       "21162              At Intersection (intersection related)  Overcast      Dry   \n",
       "178565                                                NaN  Overcast      Wet   \n",
       "78396             Mid-Block (not related to intersection)     Clear      Dry   \n",
       "35560             Mid-Block (not related to intersection)   Raining      Wet   \n",
       "131210             At Intersection (intersection related)     Clear      Dry   \n",
       "\n",
       "                      LIGHTCOND SPEEDING  \n",
       "140443                     Dawn      NaN  \n",
       "146269                  Unknown      NaN  \n",
       "122846                 Daylight      NaN  \n",
       "200391                 Daylight      NaN  \n",
       "9379                   Daylight      NaN  \n",
       "119711                  Unknown      NaN  \n",
       "76534                  Daylight      NaN  \n",
       "214363                 Daylight      NaN  \n",
       "215118                 Daylight      NaN  \n",
       "41613                  Daylight      NaN  \n",
       "43874                  Daylight      NaN  \n",
       "134404                 Daylight      NaN  \n",
       "174090                      NaN      NaN  \n",
       "137799  Dark - Street Lights On      NaN  \n",
       "179211  Dark - Street Lights On      NaN  \n",
       "21162                  Daylight      NaN  \n",
       "178565                 Daylight      NaN  \n",
       "78396   Dark - Street Lights On      NaN  \n",
       "35560   Dark - Street Lights On      NaN  \n",
       "131210                 Daylight      NaN  "
      ]
     },
     "execution_count": 12,
     "metadata": {},
     "output_type": "execute_result"
    }
   ],
   "source": [
    "df_car = balanced_df[['SEVERITYCODE','COLLISIONTYPE','PERSONCOUNT','PEDCOUNT','PEDCYLCOUNT','VEHCOUNT','INJURIES','SERIOUSINJURIES','FATALITIES','JUNCTIONTYPE','WEATHER','ROADCOND','LIGHTCOND','SPEEDING']]\n",
    "df_car.head(20)"
   ]
  },
  {
   "cell_type": "code",
   "execution_count": 13,
   "metadata": {},
   "outputs": [
    {
     "name": "stdout",
     "output_type": "stream",
     "text": [
      "SEVERITYCODE\n",
      "False    148961\n",
      "True          1\n",
      "Name: SEVERITYCODE, dtype: int64\n",
      "\n",
      "COLLISIONTYPE\n",
      "False    124531\n",
      "True      24431\n",
      "Name: COLLISIONTYPE, dtype: int64\n",
      "\n",
      "PERSONCOUNT\n",
      "False    148962\n",
      "Name: PERSONCOUNT, dtype: int64\n",
      "\n",
      "PEDCOUNT\n",
      "False    148962\n",
      "Name: PEDCOUNT, dtype: int64\n",
      "\n",
      "PEDCYLCOUNT\n",
      "False    148962\n",
      "Name: PEDCYLCOUNT, dtype: int64\n",
      "\n",
      "VEHCOUNT\n",
      "False    148962\n",
      "Name: VEHCOUNT, dtype: int64\n",
      "\n",
      "INJURIES\n",
      "False    148962\n",
      "Name: INJURIES, dtype: int64\n",
      "\n",
      "SERIOUSINJURIES\n",
      "False    148962\n",
      "Name: SERIOUSINJURIES, dtype: int64\n",
      "\n",
      "FATALITIES\n",
      "False    148962\n",
      "Name: FATALITIES, dtype: int64\n",
      "\n",
      "JUNCTIONTYPE\n",
      "False    140135\n",
      "True       8827\n",
      "Name: JUNCTIONTYPE, dtype: int64\n",
      "\n",
      "WEATHER\n",
      "False    124413\n",
      "True      24549\n",
      "Name: WEATHER, dtype: int64\n",
      "\n",
      "ROADCOND\n",
      "False    124473\n",
      "True      24489\n",
      "Name: ROADCOND, dtype: int64\n",
      "\n",
      "LIGHTCOND\n",
      "False    124372\n",
      "True      24590\n",
      "Name: LIGHTCOND, dtype: int64\n",
      "\n",
      "SPEEDING\n",
      "True     142060\n",
      "False      6902\n",
      "Name: SPEEDING, dtype: int64\n",
      "\n"
     ]
    }
   ],
   "source": [
    "missing_data = df_car.isnull()\n",
    "missing_data.head(5)\n",
    "\n",
    "for column in missing_data.columns.values.tolist():\n",
    "    print(column)\n",
    "    print (missing_data[column].value_counts())\n",
    "    print(\"\") "
   ]
  },
  {
   "cell_type": "code",
   "execution_count": 14,
   "metadata": {},
   "outputs": [
    {
     "data": {
      "text/plain": [
       "Clear                       74375\n",
       "Raining                     22413\n",
       "Overcast                    18489\n",
       "Unknown                      7628\n",
       "Snowing                       541\n",
       "Other                         470\n",
       "Fog/Smog/Smoke                374\n",
       "Sleet/Hail/Freezing Rain       64\n",
       "Blowing Sand/Dirt              37\n",
       "Severe Crosswind               14\n",
       "Partly Cloudy                   7\n",
       "Blowing Snow                    1\n",
       "Name: WEATHER, dtype: int64"
      ]
     },
     "execution_count": 14,
     "metadata": {},
     "output_type": "execute_result"
    }
   ],
   "source": [
    "df_car['WEATHER'].value_counts()"
   ]
  },
  {
   "cell_type": "code",
   "execution_count": 15,
   "metadata": {},
   "outputs": [
    {
     "data": {
      "text/plain": [
       "Dry               83334\n",
       "Wet               31983\n",
       "Unknown            7579\n",
       "Ice                 755\n",
       "Snow/Slush          584\n",
       "Other                81\n",
       "Standing Water       72\n",
       "Sand/Mud/Dirt        44\n",
       "Oil                  41\n",
       "Name: ROADCOND, dtype: int64"
      ]
     },
     "execution_count": 15,
     "metadata": {},
     "output_type": "execute_result"
    }
   ],
   "source": [
    "df_car['ROADCOND'].value_counts()"
   ]
  },
  {
   "cell_type": "code",
   "execution_count": 16,
   "metadata": {},
   "outputs": [
    {
     "data": {
      "text/plain": [
       "Daylight                    77920\n",
       "Dark - Street Lights On     32090\n",
       "Unknown                      6805\n",
       "Dusk                         3964\n",
       "Dawn                         1718\n",
       "Dark - No Street Lights       951\n",
       "Dark - Street Lights Off      764\n",
       "Other                         142\n",
       "Dark - Unknown Lighting        18\n",
       "Name: LIGHTCOND, dtype: int64"
      ]
     },
     "execution_count": 16,
     "metadata": {},
     "output_type": "execute_result"
    }
   ],
   "source": [
    "df_car['LIGHTCOND'].value_counts()"
   ]
  },
  {
   "cell_type": "code",
   "execution_count": 17,
   "metadata": {},
   "outputs": [
    {
     "data": {
      "text/plain": [
       "Mid-Block (not related to intersection)              64154\n",
       "At Intersection (intersection related)               50311\n",
       "Mid-Block (but intersection related)                 16294\n",
       "Driveway Junction                                     7493\n",
       "At Intersection (but not related to intersection)     1739\n",
       "Ramp Junction                                          127\n",
       "Unknown                                                 17\n",
       "Name: JUNCTIONTYPE, dtype: int64"
      ]
     },
     "execution_count": 17,
     "metadata": {},
     "output_type": "execute_result"
    }
   ],
   "source": [
    "df_car['JUNCTIONTYPE'].value_counts()"
   ]
  },
  {
   "cell_type": "code",
   "execution_count": 18,
   "metadata": {},
   "outputs": [
    {
     "data": {
      "text/plain": [
       "Parked Car    24465\n",
       "Angles        24383\n",
       "Rear Ended    24293\n",
       "Other         15290\n",
       "Sideswipe     10258\n",
       "Left Turn      9658\n",
       "Pedestrian     7318\n",
       "Cycles         5572\n",
       "Right Turn     1746\n",
       "Head On        1548\n",
       "Name: COLLISIONTYPE, dtype: int64"
      ]
     },
     "execution_count": 18,
     "metadata": {},
     "output_type": "execute_result"
    }
   ],
   "source": [
    "df_car['COLLISIONTYPE'].value_counts()"
   ]
  },
  {
   "cell_type": "code",
   "execution_count": 19,
   "metadata": {},
   "outputs": [
    {
     "data": {
      "text/plain": [
       "Y    6902\n",
       "Name: SPEEDING, dtype: int64"
      ]
     },
     "execution_count": 19,
     "metadata": {},
     "output_type": "execute_result"
    }
   ],
   "source": [
    "df_car['SPEEDING'].value_counts()"
   ]
  },
  {
   "cell_type": "code",
   "execution_count": 20,
   "metadata": {},
   "outputs": [
    {
     "name": "stderr",
     "output_type": "stream",
     "text": [
      "C:\\Users\\axk376\\Anaconda3\\lib\\site-packages\\pandas\\core\\generic.py:6746: SettingWithCopyWarning: \n",
      "A value is trying to be set on a copy of a slice from a DataFrame\n",
      "\n",
      "See the caveats in the documentation: https://pandas.pydata.org/pandas-docs/stable/user_guide/indexing.html#returning-a-view-versus-a-copy\n",
      "  self._update_inplace(new_data)\n"
     ]
    }
   ],
   "source": [
    "import numpy as np\n",
    "\n",
    "df_car[\"COLLISIONTYPE\"].replace(np.nan, \"Unknown\", inplace=True)\n",
    "df_car[\"JUNCTIONTYPE\"].replace(np.nan, \"Unknown\", inplace=True)\n",
    "df_car[\"LIGHTCOND\"].replace(np.nan, \"Unknown\", inplace=True)\n",
    "df_car[\"ROADCOND\"].replace(np.nan, \"Unknown\", inplace=True)\n",
    "df_car[\"WEATHER\"].replace(np.nan, \"Unknown\", inplace=True)\n",
    "df_car[\"SPEEDING\"].replace(np.nan, \"N\", inplace=True)\n",
    "\n",
    "df_car[\"SEVERITYCODE\"].replace(np.nan, 0, inplace=True)"
   ]
  },
  {
   "cell_type": "code",
   "execution_count": 21,
   "metadata": {},
   "outputs": [
    {
     "data": {
      "text/plain": [
       "N    142060\n",
       "Y      6902\n",
       "Name: SPEEDING, dtype: int64"
      ]
     },
     "execution_count": 21,
     "metadata": {},
     "output_type": "execute_result"
    }
   ],
   "source": [
    "df_car['SPEEDING'].value_counts()"
   ]
  },
  {
   "cell_type": "code",
   "execution_count": 22,
   "metadata": {},
   "outputs": [
    {
     "name": "stdout",
     "output_type": "stream",
     "text": [
      "<class 'pandas.core.frame.DataFrame'>\n",
      "Int64Index: 148962 entries, 140443 to 221737\n",
      "Data columns (total 14 columns):\n",
      " #   Column           Non-Null Count   Dtype  \n",
      "---  ------           --------------   -----  \n",
      " 0   SEVERITYCODE     148962 non-null  float64\n",
      " 1   COLLISIONTYPE    148962 non-null  object \n",
      " 2   PERSONCOUNT      148962 non-null  int64  \n",
      " 3   PEDCOUNT         148962 non-null  int64  \n",
      " 4   PEDCYLCOUNT      148962 non-null  int64  \n",
      " 5   VEHCOUNT         148962 non-null  int64  \n",
      " 6   INJURIES         148962 non-null  int64  \n",
      " 7   SERIOUSINJURIES  148962 non-null  int64  \n",
      " 8   FATALITIES       148962 non-null  int64  \n",
      " 9   JUNCTIONTYPE     148962 non-null  object \n",
      " 10  WEATHER          148962 non-null  object \n",
      " 11  ROADCOND         148962 non-null  object \n",
      " 12  LIGHTCOND        148962 non-null  object \n",
      " 13  SPEEDING         148962 non-null  object \n",
      "dtypes: float64(1), int64(7), object(6)\n",
      "memory usage: 17.0+ MB\n"
     ]
    }
   ],
   "source": [
    "df_car.info()"
   ]
  },
  {
   "cell_type": "markdown",
   "metadata": {},
   "source": [
    "<div id=\"exploratory_analysis\">\n",
    "    <h2>Exploratory Data Analysis</h2>\n",
    "</div>\n"
   ]
  },
  {
   "cell_type": "code",
   "execution_count": 36,
   "metadata": {},
   "outputs": [
    {
     "data": {
      "text/plain": [
       "<seaborn.axisgrid.FacetGrid at 0x1cf074775e0>"
      ]
     },
     "execution_count": 36,
     "metadata": {},
     "output_type": "execute_result"
    },
    {
     "data": {
      "text/plain": [
       "<Figure size 1440x360 with 0 Axes>"
      ]
     },
     "metadata": {},
     "output_type": "display_data"
    },
    {
     "data": {
      "image/png": "[encoded data removed]",
      "text/plain": [
       "<Figure size 418.625x360 with 1 Axes>"
      ]
     },
     "metadata": {
      "needs_background": "light"
     },
     "output_type": "display_data"
    }
   ],
   "source": [
    "import numpy as np\n",
    "import matplotlib.pyplot as plt\n",
    "import seaborn as sns\n",
    "%matplotlib inline \n",
    "\n",
    "plt.figure(figsize=(20,5))\n",
    "sns.catplot(x=\"SEVERITYCODE\", y=\"WEATHER\", hue=\"SPEEDING\", kind=\"bar\", data=df_car)\n",
    "\n"
   ]
  },
  {
   "cell_type": "code",
   "execution_count": 41,
   "metadata": {},
   "outputs": [
    {
     "data": {
      "text/plain": [
       "<seaborn.axisgrid.FacetGrid at 0x1cf12af83a0>"
      ]
     },
     "execution_count": 41,
     "metadata": {},
     "output_type": "execute_result"
    },
    {
     "data": {
      "text/plain": [
       "<Figure size 1440x360 with 0 Axes>"
      ]
     },
     "metadata": {},
     "output_type": "display_data"
    },
    {
     "data": {
      "image/png": "[encoded data removed]",
      "text/plain": [
       "<Figure size 418.625x360 with 1 Axes>"
      ]
     },
     "metadata": {
      "needs_background": "light"
     },
     "output_type": "display_data"
    }
   ],
   "source": [
    "plt.figure(figsize=(20,5))\n",
    "sns.catplot(x=\"SEVERITYCODE\", y=\"ROADCOND\", hue=\"SPEEDING\", kind=\"bar\", data=df_car)"
   ]
  },
  {
   "cell_type": "code",
   "execution_count": 44,
   "metadata": {},
   "outputs": [
    {
     "data": {
      "text/plain": [
       "<seaborn.axisgrid.FacetGrid at 0x1cf12b3ffd0>"
      ]
     },
     "execution_count": 44,
     "metadata": {},
     "output_type": "execute_result"
    },
    {
     "data": {
      "text/plain": [
       "<Figure size 1440x360 with 0 Axes>"
      ]
     },
     "metadata": {},
     "output_type": "display_data"
    },
    {
     "data": {
      "image/png": "[encoded data removed]",
      "text/plain": [
       "<Figure size 418.625x360 with 1 Axes>"
      ]
     },
     "metadata": {
      "needs_background": "light"
     },
     "output_type": "display_data"
    }
   ],
   "source": [
    "plt.figure(figsize=(20,5))\n",
    "sns.catplot(x=\"SEVERITYCODE\", y=\"LIGHTCOND\", hue=\"SPEEDING\", kind=\"bar\", data=df_car)"
   ]
  },
  {
   "cell_type": "code",
   "execution_count": 45,
   "metadata": {},
   "outputs": [
    {
     "data": {
      "text/plain": [
       "<seaborn.axisgrid.FacetGrid at 0x1cf12e153d0>"
      ]
     },
     "execution_count": 45,
     "metadata": {},
     "output_type": "execute_result"
    },
    {
     "data": {
      "text/plain": [
       "<Figure size 1440x360 with 0 Axes>"
      ]
     },
     "metadata": {},
     "output_type": "display_data"
    },
    {
     "data": {
      "image/png": "[encoded data removed]",
      "text/plain": [
       "<Figure size 418.625x360 with 1 Axes>"
      ]
     },
     "metadata": {
      "needs_background": "light"
     },
     "output_type": "display_data"
    }
   ],
   "source": [
    "plt.figure(figsize=(20,5))\n",
    "sns.catplot(x=\"SEVERITYCODE\", y=\"JUNCTIONTYPE\", hue=\"SPEEDING\", kind=\"bar\", data=df_car)"
   ]
  },
  {
   "cell_type": "markdown",
   "metadata": {},
   "source": [
    "<div id=\"data_preprocessing\">\n",
    "    <h2>Data Pre-processing</h2>\n",
    "</div>\n"
   ]
  },
  {
   "cell_type": "code",
   "execution_count": 46,
   "metadata": {},
   "outputs": [
    {
     "data": {
      "text/plain": [
       "array([['Right Turn', 2, 0, 0, 2, 0, 0, 0,\n",
       "        'Mid-Block (not related to intersection)', 'Overcast', 'Wet',\n",
       "        'Dawn', 'N'],\n",
       "       ['Parked Car', 2, 0, 0, 2, 0, 0, 0,\n",
       "        'At Intersection (intersection related)', 'Unknown', 'Unknown',\n",
       "        'Unknown', 'N'],\n",
       "       ['Parked Car', 2, 0, 0, 2, 0, 0, 0,\n",
       "        'Mid-Block (not related to intersection)', 'Clear', 'Dry',\n",
       "        'Daylight', 'N'],\n",
       "       ['Sideswipe', 3, 0, 0, 2, 0, 0, 0,\n",
       "        'Mid-Block (not related to intersection)', 'Clear', 'Dry',\n",
       "        'Daylight', 'N'],\n",
       "       ['Other', 1, 0, 0, 1, 0, 0, 0,\n",
       "        'Mid-Block (not related to intersection)', 'Raining', 'Wet',\n",
       "        'Daylight', 'N']], dtype=object)"
      ]
     },
     "execution_count": 46,
     "metadata": {},
     "output_type": "execute_result"
    }
   ],
   "source": [
    "X = df_car[['COLLISIONTYPE','PERSONCOUNT','PEDCOUNT','PEDCYLCOUNT','VEHCOUNT','INJURIES','SERIOUSINJURIES','FATALITIES','JUNCTIONTYPE','WEATHER','ROADCOND','LIGHTCOND','SPEEDING']].values\n",
    "X[0:5]\n",
    "\n",
    "\n"
   ]
  },
  {
   "cell_type": "code",
   "execution_count": 47,
   "metadata": {},
   "outputs": [
    {
     "data": {
      "text/plain": [
       "array([[8, 2, 0, 0, 2, 0, 0, 0, 4, 5, 8, 4, 0],\n",
       "       [5, 2, 0, 0, 2, 0, 0, 0, 1, 11, 7, 9, 0],\n",
       "       [5, 2, 0, 0, 2, 0, 0, 0, 4, 2, 0, 5, 0],\n",
       "       [9, 3, 0, 0, 2, 0, 0, 0, 4, 2, 0, 5, 0],\n",
       "       [4, 1, 0, 0, 1, 0, 0, 0, 4, 7, 8, 5, 0]], dtype=object)"
      ]
     },
     "execution_count": 47,
     "metadata": {},
     "output_type": "execute_result"
    }
   ],
   "source": [
    "from sklearn import preprocessing\n",
    "le_Col = preprocessing.LabelEncoder()\n",
    "le_Col.fit(['Angles','Rear Ended','Parked Car', 'Other', 'Sideswipe', 'Left Turn', 'Pedestrian', 'Cycles', 'Right Turn', 'Head On', 'Unknown'])\n",
    "X[:,0] = le_Col.transform(X[:,0]) \n",
    "\n",
    "\n",
    "le_Jun = preprocessing.LabelEncoder()\n",
    "le_Jun.fit([ 'Mid-Block (not related to intersection)', 'At Intersection (intersection related)', 'Mid-Block (but intersection related)','Driveway Junction','At Intersection (but not related to intersection)','Ramp Junction','Unknown'])\n",
    "X[:,8] = le_Jun.transform(X[:,8])\n",
    "\n",
    "\n",
    "le_Wthr = preprocessing.LabelEncoder()\n",
    "le_Wthr.fit([ 'Clear', 'Raining', 'Overcast', 'Unknown', 'Snowing', 'Other', 'Fog/Smog/Smoke', 'Sleet/Hail/Freezing Rain', 'Blowing Sand/Dirt', 'Severe Crosswind', 'Partly Cloudy', 'Blowing Snow'])\n",
    "X[:,9] = le_Wthr.transform(X[:,9]) \n",
    "\n",
    "le_Rcnd = preprocessing.LabelEncoder()\n",
    "le_Rcnd.fit([ 'Dry', 'Wet', 'Unknown', 'Ice', 'Snow/Slush', 'Other', 'Standing Water', 'Sand/Mud/Dirt', 'Oil'])\n",
    "X[:,10] = le_Rcnd.transform(X[:,10]) \n",
    "\n",
    "le_Lcnd = preprocessing.LabelEncoder()\n",
    "le_Lcnd.fit([ 'Daylight', 'Dark - Street Lights On', 'Unknown', 'Dusk', 'Snow/Slush', 'Dawn', 'Dark - No Street Lights', 'Dark - Street Lights Off', 'Other', 'Dark - Unknown Lighting'])\n",
    "X[:,11] = le_Lcnd.transform(X[:,11]) \n",
    "\n",
    "le_Spd = preprocessing.LabelEncoder()\n",
    "le_Spd.fit([ 'Y', 'N'])\n",
    "X[:,12] = le_Spd.transform(X[:,12]) \n",
    "\n",
    "X[0:5]"
   ]
  },
  {
   "cell_type": "code",
   "execution_count": 48,
   "metadata": {},
   "outputs": [
    {
     "data": {
      "text/plain": [
       "140443    1.0\n",
       "146269    1.0\n",
       "122846    1.0\n",
       "200391    1.0\n",
       "9379      1.0\n",
       "Name: SEVERITYCODE, dtype: float64"
      ]
     },
     "execution_count": 48,
     "metadata": {},
     "output_type": "execute_result"
    }
   ],
   "source": [
    "y = df_car[\"SEVERITYCODE\"]\n",
    "y[0:5]"
   ]
  },
  {
   "cell_type": "code",
   "execution_count": 49,
   "metadata": {},
   "outputs": [
    {
     "data": {
      "text/plain": [
       "array([[ 0.81883233, -0.11190296, -0.22670164, -0.19763718,  0.41224259,\n",
       "        -0.6672496 , -0.1176568 , -0.04614688,  0.7345875 , -0.03049773,\n",
       "         1.27613092, -0.49199936, -0.22042029],\n",
       "       [-0.08243785, -0.11190296, -0.22670164, -0.19763718,  0.41224259,\n",
       "        -0.6672496 , -0.1176568 , -0.04614688, -1.18119427,  1.6350295 ,\n",
       "         1.0071595 ,  1.62673697, -0.22042029],\n",
       "       [-0.08243785, -0.11190296, -0.22670164, -0.19763718,  0.41224259,\n",
       "        -0.6672496 , -0.1176568 , -0.04614688,  0.7345875 , -0.86326135,\n",
       "        -0.87564045, -0.06825209, -0.22042029],\n",
       "       [ 1.11925572,  0.52270657, -0.22670164, -0.19763718,  0.41224259,\n",
       "        -0.6672496 , -0.1176568 , -0.04614688,  0.7345875 , -0.86326135,\n",
       "        -0.87564045, -0.06825209, -0.22042029],\n",
       "       [-0.38286124, -0.74651249, -0.22670164, -0.19763718, -0.68330057,\n",
       "        -0.6672496 , -0.1176568 , -0.04614688,  0.7345875 ,  0.52467801,\n",
       "         1.27613092, -0.06825209, -0.22042029]])"
      ]
     },
     "execution_count": 49,
     "metadata": {},
     "output_type": "execute_result"
    }
   ],
   "source": [
    "import itertools\n",
    "import numpy as np\n",
    "import matplotlib.pyplot as plt\n",
    "from matplotlib.ticker import NullFormatter\n",
    "import pandas as pd\n",
    "import numpy as np\n",
    "import matplotlib.ticker as ticker\n",
    "from sklearn import preprocessing\n",
    "%matplotlib inline\n",
    "\n",
    "X = preprocessing.StandardScaler().fit(X).transform(X.astype(float))\n",
    "X[0:5]"
   ]
  },
  {
   "cell_type": "markdown",
   "metadata": {},
   "source": [
    "<div id=\"train_test_split\">\n",
    "    <h2>Train-Test-Split</h2>\n",
    "</div>\n"
   ]
  },
  {
   "cell_type": "code",
   "execution_count": 105,
   "metadata": {},
   "outputs": [
    {
     "name": "stdout",
     "output_type": "stream",
     "text": [
      "Train set: (104273, 13) (104273,)\n",
      "Test set: (44689, 13) (44689,)\n"
     ]
    }
   ],
   "source": [
    "from sklearn.model_selection import train_test_split\n",
    "X_train, X_test, y_train, y_test = train_test_split( X, y, test_size=0.3, random_state=4)\n",
    "print ('Train set:', X_train.shape,  y_train.shape)\n",
    "print ('Test set:', X_test.shape,  y_test.shape)"
   ]
  },
  {
   "cell_type": "markdown",
   "metadata": {},
   "source": [
    "<div id=\"Modeling\">\n",
    "    <h2>Modeling</h2>\n",
    "</div>\n",
    "\n",
    "<div id=\"KNN\">\n",
    "    <h2>K-Nearest Neighbours(KNN)</h2>\n",
    "</div>\n"
   ]
  },
  {
   "cell_type": "code",
   "execution_count": 106,
   "metadata": {},
   "outputs": [
    {
     "data": {
      "text/plain": [
       "KNeighborsClassifier(n_neighbors=4)"
      ]
     },
     "execution_count": 106,
     "metadata": {},
     "output_type": "execute_result"
    }
   ],
   "source": [
    "from sklearn.neighbors import KNeighborsClassifier\n",
    "\n",
    "k = 4\n",
    "#Train Model and Predict  \n",
    "neigh = KNeighborsClassifier(n_neighbors = k).fit(X_train,y_train)\n",
    "neigh"
   ]
  },
  {
   "cell_type": "code",
   "execution_count": 107,
   "metadata": {},
   "outputs": [
    {
     "data": {
      "text/plain": [
       "array([1., 0., 1., 1., 1.])"
      ]
     },
     "execution_count": 107,
     "metadata": {},
     "output_type": "execute_result"
    }
   ],
   "source": [
    "yhat = neigh.predict(X_test)\n",
    "yhat[0:5]"
   ]
  },
  {
   "cell_type": "code",
   "execution_count": 108,
   "metadata": {},
   "outputs": [
    {
     "name": "stdout",
     "output_type": "stream",
     "text": [
      "Train set Accuracy:  0.9912057771426928\n",
      "Test set Accuracy:  0.9917205576316319\n"
     ]
    }
   ],
   "source": [
    "from sklearn import metrics\n",
    "print(\"Train set Accuracy: \", metrics.accuracy_score(y_train, neigh.predict(X_train)))\n",
    "print(\"Test set Accuracy: \", metrics.accuracy_score(y_test, yhat))"
   ]
  },
  {
   "cell_type": "code",
   "execution_count": 109,
   "metadata": {},
   "outputs": [
    {
     "data": {
      "text/plain": [
       "array([0.98975139, 0.98990803, 0.99189957, 0.99172056, 0.99315268,\n",
       "       0.99310792, 0.99301842, 0.99120589, 0.99290653])"
      ]
     },
     "execution_count": 109,
     "metadata": {},
     "output_type": "execute_result"
    }
   ],
   "source": [
    "Ks = 10\n",
    "mean_acc = np.zeros((Ks-1))\n",
    "std_acc = np.zeros((Ks-1))\n",
    "ConfustionMx = [];\n",
    "for n in range(1,Ks):\n",
    "    \n",
    "    #Train Model and Predict  \n",
    "    neigh = KNeighborsClassifier(n_neighbors = n).fit(X_train,y_train)\n",
    "    yhat=neigh.predict(X_test)\n",
    "    mean_acc[n-1] = metrics.accuracy_score(y_test, yhat)\n",
    "\n",
    "    \n",
    "    std_acc[n-1]=np.std(yhat==y_test)/np.sqrt(yhat.shape[0])\n",
    "\n",
    "mean_acc"
   ]
  },
  {
   "cell_type": "code",
   "execution_count": 110,
   "metadata": {},
   "outputs": [
    {
     "data": {
      "image/png": "[encoded data removed]",
      "text/plain": [
       "<Figure size 432x288 with 1 Axes>"
      ]
     },
     "metadata": {
      "needs_background": "light"
     },
     "output_type": "display_data"
    }
   ],
   "source": [
    "plt.plot(range(1,Ks),mean_acc,'g')\n",
    "plt.fill_between(range(1,Ks),mean_acc - 1 * std_acc,mean_acc + 1 * std_acc, alpha=0.10)\n",
    "plt.legend(('Accuracy ', '+/- 3xstd'))\n",
    "plt.ylabel('Accuracy ')\n",
    "plt.xlabel('Number of Nabors (K)')\n",
    "plt.tight_layout()\n",
    "plt.show()"
   ]
  },
  {
   "cell_type": "code",
   "execution_count": 111,
   "metadata": {},
   "outputs": [
    {
     "name": "stdout",
     "output_type": "stream",
     "text": [
      "The best accuracy was with 0.993152677392647 with k= 5\n"
     ]
    }
   ],
   "source": [
    "print( \"The best accuracy was with\", mean_acc.max(), \"with k=\", mean_acc.argmax()+1) "
   ]
  },
  {
   "cell_type": "code",
   "execution_count": 113,
   "metadata": {},
   "outputs": [
    {
     "data": {
      "text/plain": [
       "KNeighborsClassifier()"
      ]
     },
     "execution_count": 113,
     "metadata": {},
     "output_type": "execute_result"
    }
   ],
   "source": [
    "k = 5\n",
    "#Train Model and Predict  \n",
    "neigh = KNeighborsClassifier(n_neighbors = k).fit(X_train,y_train)\n",
    "neigh"
   ]
  },
  {
   "cell_type": "code",
   "execution_count": 115,
   "metadata": {},
   "outputs": [
    {
     "data": {
      "text/plain": [
       "array([1., 0., 1., 1., 1.])"
      ]
     },
     "execution_count": 115,
     "metadata": {},
     "output_type": "execute_result"
    }
   ],
   "source": [
    "yhat = neigh.predict(X_test)\n",
    "yhat[0:5]"
   ]
  },
  {
   "cell_type": "code",
   "execution_count": 116,
   "metadata": {},
   "outputs": [
    {
     "name": "stdout",
     "output_type": "stream",
     "text": [
      "Train set Accuracy:  0.9925579967968697\n",
      "Test set Accuracy:  0.993152677392647\n"
     ]
    }
   ],
   "source": [
    "from sklearn import metrics\n",
    "print(\"Train set Accuracy: \", metrics.accuracy_score(y_train, neigh.predict(X_train)))\n",
    "print(\"Test set Accuracy: \", metrics.accuracy_score(y_test, yhat))"
   ]
  },
  {
   "cell_type": "code",
   "execution_count": 117,
   "metadata": {},
   "outputs": [
    {
     "name": "stdout",
     "output_type": "stream",
     "text": [
      "DT F1-score: 0.99\n"
     ]
    }
   ],
   "source": [
    "from sklearn.metrics import f1_score\n",
    "\n",
    "print(\"DT F1-score: %.2f\" % f1_score(y_test, yhat, average='weighted') )"
   ]
  },
  {
   "cell_type": "markdown",
   "metadata": {},
   "source": [
    "<div id=\"decision_tree\">\n",
    "    <h2>Decision Tree</h2>\n",
    "</div>\n"
   ]
  },
  {
   "cell_type": "code",
   "execution_count": 118,
   "metadata": {},
   "outputs": [
    {
     "data": {
      "text/plain": [
       "DecisionTreeClassifier(criterion='entropy', max_depth=5)"
      ]
     },
     "execution_count": 118,
     "metadata": {},
     "output_type": "execute_result"
    }
   ],
   "source": [
    "from sklearn.tree import DecisionTreeClassifier\n",
    "DT_model = DecisionTreeClassifier(criterion=\"entropy\", max_depth = 5)\n",
    "DT_model.fit(X_train,y_train)\n",
    "DT_model"
   ]
  },
  {
   "cell_type": "code",
   "execution_count": 119,
   "metadata": {},
   "outputs": [
    {
     "data": {
      "text/plain": [
       "array([1., 0., 1., ..., 2., 2., 0.])"
      ]
     },
     "execution_count": 119,
     "metadata": {},
     "output_type": "execute_result"
    }
   ],
   "source": [
    "yhat = DT_model.predict(X_test)\n",
    "yhat"
   ]
  },
  {
   "cell_type": "code",
   "execution_count": 120,
   "metadata": {},
   "outputs": [
    {
     "name": "stdout",
     "output_type": "stream",
     "text": [
      "DecisionTrees's Accuracy:  0.9931750542639128\n"
     ]
    }
   ],
   "source": [
    "from sklearn import metrics\n",
    "import matplotlib.pyplot as plt\n",
    "print(\"DecisionTrees's Accuracy: \", metrics.accuracy_score(y_test, yhat))"
   ]
  },
  {
   "cell_type": "code",
   "execution_count": 121,
   "metadata": {},
   "outputs": [
    {
     "name": "stdout",
     "output_type": "stream",
     "text": [
      "DT F1-score: 0.99\n"
     ]
    }
   ],
   "source": [
    "from sklearn.metrics import f1_score\n",
    "\n",
    "print(\"DT F1-score: %.2f\" % f1_score(y_test, yhat, average='weighted') )"
   ]
  },
  {
   "cell_type": "markdown",
   "metadata": {},
   "source": [
    "<div id=\"logistic_regression\">\n",
    "    <h2>Logistic Regression</h2>\n",
    "</div>\n"
   ]
  },
  {
   "cell_type": "code",
   "execution_count": 122,
   "metadata": {},
   "outputs": [
    {
     "data": {
      "text/plain": [
       "LogisticRegression(C=0.01)"
      ]
     },
     "execution_count": 122,
     "metadata": {},
     "output_type": "execute_result"
    }
   ],
   "source": [
    "from sklearn.linear_model import LogisticRegression\n",
    "LR_model = LogisticRegression(C=0.01).fit(X_train,y_train)\n",
    "LR_model"
   ]
  },
  {
   "cell_type": "code",
   "execution_count": 123,
   "metadata": {},
   "outputs": [
    {
     "data": {
      "text/plain": [
       "array([1., 0., 1., ..., 2., 2., 0.])"
      ]
     },
     "execution_count": 123,
     "metadata": {},
     "output_type": "execute_result"
    }
   ],
   "source": [
    "yhat = LR_model.predict(X_test)\n",
    "yhat"
   ]
  },
  {
   "cell_type": "code",
   "execution_count": 124,
   "metadata": {},
   "outputs": [
    {
     "name": "stdout",
     "output_type": "stream",
     "text": [
      "LR F1-score: 0.99\n",
      "LR LogLoss: 0.04\n"
     ]
    }
   ],
   "source": [
    "from sklearn.metrics import f1_score\n",
    "from sklearn.metrics import log_loss\n",
    "\n",
    "LR_yhat = LR_model.predict(X_test)\n",
    "LR_yhat_prob = LR_model.predict_proba(X_test)\n",
    "\n",
    "print(\"LR F1-score: %.2f\" % f1_score(y_test, LR_yhat, average='weighted'))\n",
    "print(\"LR LogLoss: %.2f\" % log_loss(y_test, LR_yhat_prob))"
   ]
  },
  {
   "cell_type": "code",
   "execution_count": 125,
   "metadata": {},
   "outputs": [
    {
     "name": "stdout",
     "output_type": "stream",
     "text": [
      "DecisionTrees's Accuracy:  0.990914990266061\n"
     ]
    }
   ],
   "source": [
    "from sklearn import metrics\n",
    "import matplotlib.pyplot as plt\n",
    "print(\"DecisionTrees's Accuracy: \", metrics.accuracy_score(y_test, yhat))"
   ]
  },
  {
   "cell_type": "markdown",
   "metadata": {},
   "source": [
    "<div id=\"results\">\n",
    "    <h2>Results and Evaluations</h2>\n",
    "</div>\n",
    "\n",
    "\n",
    "The final results of the model evaluations are summarized in the following table:\n",
    "\n",
    "| ML Model            | F1-Score | Accuracy |\n",
    "|---------------------|----------|----------|\n",
    "| KNN                 |  0.99    |  0.993   | \n",
    "| Decision Tree       |  0.99    |  0.993   |\n",
    "| Logistic Regression |  0.99    |  0.990   |\n",
    "\n"
   ]
  }
 ],
 "metadata": {
  "kernelspec": {
   "display_name": "Python 3",
   "language": "python",
   "name": "python3"
  },
  "language_info": {
   "codemirror_mode": {
    "name": "ipython",
    "version": 3
   },
   "file_extension": ".py",
   "mimetype": "text/x-python",
   "name": "python",
   "nbconvert_exporter": "python",
   "pygments_lexer": "ipython3",
   "version": "3.8.3"
  }
 },
 "nbformat": 4,
 "nbformat_minor": 4
}